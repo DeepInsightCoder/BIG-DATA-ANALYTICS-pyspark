{
  "nbformat": 4,
  "nbformat_minor": 0,
  "metadata": {
    "colab": {
      "provenance": []
    },
    "kernelspec": {
      "name": "python3",
      "display_name": "Python 3"
    },
    "language_info": {
      "name": "python"
    }
  },
  "cells": [
    {
      "cell_type": "code",
      "execution_count": 1,
      "metadata": {
        "colab": {
          "base_uri": "https://localhost:8080/"
        },
        "id": "hxpYla0SnW_9",
        "outputId": "5d867286-199d-4529-bcc0-c28c08a58f7e"
      },
      "outputs": [
        {
          "output_type": "stream",
          "name": "stdout",
          "text": [
            "Collecting pyspark\n",
            "  Downloading pyspark-3.5.1.tar.gz (317.0 MB)\n",
            "\u001b[2K     \u001b[90m━━━━━━━━━━━━━━━━━━━━━━━━━━━━━━━━━━━━━━━━\u001b[0m \u001b[32m317.0/317.0 MB\u001b[0m \u001b[31m2.6 MB/s\u001b[0m eta \u001b[36m0:00:00\u001b[0m\n",
            "\u001b[?25h  Preparing metadata (setup.py) ... \u001b[?25l\u001b[?25hdone\n",
            "Requirement already satisfied: py4j==0.10.9.7 in /usr/local/lib/python3.10/dist-packages (from pyspark) (0.10.9.7)\n",
            "Building wheels for collected packages: pyspark\n",
            "  Building wheel for pyspark (setup.py) ... \u001b[?25l\u001b[?25hdone\n",
            "  Created wheel for pyspark: filename=pyspark-3.5.1-py2.py3-none-any.whl size=317488491 sha256=540b6dd8231032696168185b453d159f48bde0795bacd9244f98d3c4980f0cbb\n",
            "  Stored in directory: /root/.cache/pip/wheels/80/1d/60/2c256ed38dddce2fdd93be545214a63e02fbd8d74fb0b7f3a6\n",
            "Successfully built pyspark\n",
            "Installing collected packages: pyspark\n",
            "Successfully installed pyspark-3.5.1\n"
          ]
        }
      ],
      "source": [
        "pip install pyspark"
      ]
    },
    {
      "cell_type": "code",
      "source": [
        "from pyspark.sql import SparkSession\n",
        "\n",
        "# Initialize Spark session\n",
        "spark = SparkSession.builder.appName('SalesAnalysis').getOrCreate()"
      ],
      "metadata": {
        "id": "uX7dutEWnti_"
      },
      "execution_count": 2,
      "outputs": []
    },
    {
      "cell_type": "code",
      "source": [
        "# Load dataset\n",
        "data = spark.read.csv('Sales Dataset.csv', header=True, inferSchema=True)"
      ],
      "metadata": {
        "id": "Esg35OQ9ntlf"
      },
      "execution_count": 3,
      "outputs": []
    },
    {
      "cell_type": "code",
      "source": [
        "# Show the first few rows of the dataset\n",
        "data.show(5)\n",
        "\n",
        "# Print the schema of the dataset\n",
        "data.printSchema()\n",
        "\n",
        "# Describe the dataset to get summary statistics\n",
        "data.describe().show()"
      ],
      "metadata": {
        "colab": {
          "base_uri": "https://localhost:8080/"
        },
        "id": "5Cl7TPebntnt",
        "outputId": "eaaa955e-6d43-4493-eb0d-70e0f8061bb8"
      },
      "execution_count": 4,
      "outputs": [
        {
          "output_type": "stream",
          "name": "stdout",
          "text": [
            "+--------+--------------------+----------------+----------+--------------+--------------------+\n",
            "|Order ID|             Product|Quantity Ordered|Price Each|    Order Date|    Purchase Address|\n",
            "+--------+--------------------+----------------+----------+--------------+--------------------+\n",
            "|  176558|USB-C Charging Cable|               2|     11.95|04/19/19 08:46|917 1st St, Dalla...|\n",
            "|    NULL|                NULL|            NULL|      NULL|          NULL|                NULL|\n",
            "|  176559|Bose SoundSport H...|               1|     99.99|04/07/19 22:30|682 Chestnut St, ...|\n",
            "|  176560|        Google Phone|               1|     600.0|04/12/19 14:38|669 Spruce St, Lo...|\n",
            "|  176560|    Wired Headphones|               1|     11.99|04/12/19 14:38|669 Spruce St, Lo...|\n",
            "+--------+--------------------+----------------+----------+--------------+--------------------+\n",
            "only showing top 5 rows\n",
            "\n",
            "root\n",
            " |-- Order ID: integer (nullable = true)\n",
            " |-- Product: string (nullable = true)\n",
            " |-- Quantity Ordered: integer (nullable = true)\n",
            " |-- Price Each: double (nullable = true)\n",
            " |-- Order Date: string (nullable = true)\n",
            " |-- Purchase Address: string (nullable = true)\n",
            "\n",
            "+-------+-----------------+------------+------------------+------------------+--------------+--------------------+\n",
            "|summary|         Order ID|     Product|  Quantity Ordered|        Price Each|    Order Date|    Purchase Address|\n",
            "+-------+-----------------+------------+------------------+------------------+--------------+--------------------+\n",
            "|  count|           185950|      186305|            185950|            185950|        186305|              186305|\n",
            "|   mean|230417.5693788653|        NULL|1.1243828986286637| 184.3997347672947|          NULL|                NULL|\n",
            "| stddev|51512.73710999618|        NULL|0.4427926240286682|332.73132988434463|          NULL|                NULL|\n",
            "|    min|           141234|20in Monitor|                 1|              2.99|01/01/19 03:07|1 11th St, Atlant...|\n",
            "|    max|           319670|      iPhone|                 9|            1700.0|    Order Date|    Purchase Address|\n",
            "+-------+-----------------+------------+------------------+------------------+--------------+--------------------+\n",
            "\n"
          ]
        }
      ]
    },
    {
      "cell_type": "code",
      "source": [
        "# Drop rows with missing values\n",
        "data = data.dropna()\n",
        "\n",
        "# Convert necessary columns to appropriate data types\n",
        "from pyspark.sql.functions import col\n",
        "\n",
        "data = data.withColumn(\"Quantity Ordered\", col(\"Quantity Ordered\").cast(\"integer\"))\n",
        "data = data.withColumn(\"Price Each\", col(\"Price Each\").cast(\"float\"))\n",
        "data = data.withColumn(\"Order Date\", col(\"Order Date\").cast(\"timestamp\"))"
      ],
      "metadata": {
        "id": "vthfVznTntqK"
      },
      "execution_count": 5,
      "outputs": []
    },
    {
      "cell_type": "code",
      "source": [
        "from pyspark.sql.functions import year, month, dayofmonth\n",
        "\n",
        "# Extract year, month, and day from Order Date\n",
        "data = data.withColumn(\"Year\", year(\"Order Date\"))\n",
        "data = data.withColumn(\"Month\", month(\"Order Date\"))\n",
        "data = data.withColumn(\"Day\", dayofmonth(\"Order Date\"))\n",
        "\n",
        "# Calculate total sales for each order\n",
        "data = data.withColumn(\"Total Sales\", col(\"Quantity Ordered\") * col(\"Price Each\"))"
      ],
      "metadata": {
        "id": "q8rH_ubKntsZ"
      },
      "execution_count": 6,
      "outputs": []
    },
    {
      "cell_type": "code",
      "source": [
        "# Group by year and month to calculate monthly sales\n",
        "monthly_sales = data.groupBy(\"Year\", \"Month\").sum(\"Total Sales\").orderBy(\"Year\", \"Month\")\n",
        "monthly_sales.show()"
      ],
      "metadata": {
        "colab": {
          "base_uri": "https://localhost:8080/"
        },
        "id": "TY9sC4R3ntu7",
        "outputId": "0a42a7d0-a197-42b7-f2d1-3a5b3dae5993"
      },
      "execution_count": 7,
      "outputs": [
        {
          "output_type": "stream",
          "name": "stdout",
          "text": [
            "+----+-----+-------------------+\n",
            "|Year|Month|   sum(Total Sales)|\n",
            "+----+-----+-------------------+\n",
            "|NULL| NULL|3.449203579634309E7|\n",
            "+----+-----+-------------------+\n",
            "\n"
          ]
        }
      ]
    },
    {
      "cell_type": "code",
      "source": [
        "# Group by product to calculate total quantity sold\n",
        "top_products = data.groupBy(\"Product\").sum(\"Quantity Ordered\").orderBy(col(\"sum(Quantity Ordered)\").desc())\n",
        "top_products.show()"
      ],
      "metadata": {
        "colab": {
          "base_uri": "https://localhost:8080/"
        },
        "id": "zMzUaK2rntw1",
        "outputId": "9282a573-aa9a-41ab-80cf-3875368cecf9"
      },
      "execution_count": 8,
      "outputs": [
        {
          "output_type": "stream",
          "name": "stdout",
          "text": [
            "+--------------------+---------------------+\n",
            "|             Product|sum(Quantity Ordered)|\n",
            "+--------------------+---------------------+\n",
            "|AAA Batteries (4-...|                31017|\n",
            "|AA Batteries (4-p...|                27635|\n",
            "|USB-C Charging Cable|                23975|\n",
            "|Lightning Chargin...|                23217|\n",
            "|    Wired Headphones|                20557|\n",
            "|Apple Airpods Hea...|                15661|\n",
            "|Bose SoundSport H...|                13457|\n",
            "|    27in FHD Monitor|                 7550|\n",
            "|              iPhone|                 6849|\n",
            "|27in 4K Gaming Mo...|                 6244|\n",
            "|34in Ultrawide Mo...|                 6199|\n",
            "|        Google Phone|                 5532|\n",
            "|       Flatscreen TV|                 4819|\n",
            "|  Macbook Pro Laptop|                 4728|\n",
            "|     ThinkPad Laptop|                 4130|\n",
            "|        20in Monitor|                 4129|\n",
            "|     Vareebadd Phone|                 2068|\n",
            "|  LG Washing Machine|                  666|\n",
            "|            LG Dryer|                  646|\n",
            "+--------------------+---------------------+\n",
            "\n"
          ]
        }
      ]
    },
    {
      "cell_type": "code",
      "source": [
        "from pyspark.sql.functions import split\n",
        "\n",
        "# Extract city from Purchase Address\n",
        "data = data.withColumn(\"City\", split(col(\"Purchase Address\"), \",\")[1])\n",
        "\n",
        "# Group by city to calculate total sales\n",
        "sales_by_city = data.groupBy(\"City\").sum(\"Total Sales\").orderBy(col(\"sum(Total Sales)\").desc())\n",
        "sales_by_city.show()"
      ],
      "metadata": {
        "colab": {
          "base_uri": "https://localhost:8080/"
        },
        "id": "JF6gZ1vEntzI",
        "outputId": "28f090a2-8a39-4e17-a737-85649a1060a0"
      },
      "execution_count": 9,
      "outputs": [
        {
          "output_type": "stream",
          "name": "stdout",
          "text": [
            "+--------------+------------------+\n",
            "|          City|  sum(Total Sales)|\n",
            "+--------------+------------------+\n",
            "| San Francisco| 8262203.869155407|\n",
            "|   Los Angeles| 5452570.772869825|\n",
            "| New York City| 4664317.406611681|\n",
            "|        Boston|3661641.9913027287|\n",
            "|       Atlanta| 2795498.565934658|\n",
            "|        Dallas| 2767975.385901928|\n",
            "|       Seattle| 2747755.465265751|\n",
            "|      Portland|2320490.5985319614|\n",
            "|        Austin|1819581.7407691479|\n",
            "+--------------+------------------+\n",
            "\n"
          ]
        }
      ]
    },
    {
      "cell_type": "code",
      "source": [
        "# Group by year, month, and day to calculate daily sales\n",
        "daily_sales = data.groupBy(\"Year\", \"Month\", \"Day\").sum(\"Total Sales\").orderBy(\"Year\", \"Month\", \"Day\")\n",
        "daily_sales.show()"
      ],
      "metadata": {
        "colab": {
          "base_uri": "https://localhost:8080/"
        },
        "id": "y2mfqosQnt2h",
        "outputId": "55bc52d2-26c4-4f3a-bd60-b4da0e807bbc"
      },
      "execution_count": 10,
      "outputs": [
        {
          "output_type": "stream",
          "name": "stdout",
          "text": [
            "+----+-----+----+-------------------+\n",
            "|Year|Month| Day|   sum(Total Sales)|\n",
            "+----+-----+----+-------------------+\n",
            "|NULL| NULL|NULL|3.449203579634309E7|\n",
            "+----+-----+----+-------------------+\n",
            "\n"
          ]
        }
      ]
    },
    {
      "cell_type": "code",
      "source": [
        "from pyspark.ml.stat import Correlation\n",
        "from pyspark.ml.feature import VectorAssembler\n",
        "\n",
        "# Create a feature vector\n",
        "assembler = VectorAssembler(inputCols=[\"Quantity Ordered\", \"Price Each\"], outputCol=\"features\")\n",
        "feature_vector = assembler.transform(data)\n",
        "\n",
        "# Calculate correlation\n",
        "correlation_matrix = Correlation.corr(feature_vector, \"features\").head()[0]\n",
        "print(\"Correlation matrix:\\n\", correlation_matrix)"
      ],
      "metadata": {
        "colab": {
          "base_uri": "https://localhost:8080/"
        },
        "id": "un4z6gLqpeuC",
        "outputId": "babe073d-ce3e-4111-dc3b-b90fc4003f69"
      },
      "execution_count": 11,
      "outputs": [
        {
          "output_type": "stream",
          "name": "stdout",
          "text": [
            "Correlation matrix:\n",
            " DenseMatrix([[ 1.        , -0.14827234],\n",
            "             [-0.14827234,  1.        ]])\n"
          ]
        }
      ]
    },
    {
      "cell_type": "code",
      "source": [
        "# Stop Spark session\n",
        "spark.stop()"
      ],
      "metadata": {
        "id": "mqKcF7D-peq1"
      },
      "execution_count": 12,
      "outputs": []
    }
  ]
}
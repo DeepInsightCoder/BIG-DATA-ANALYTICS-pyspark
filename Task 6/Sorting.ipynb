{
  "nbformat": 4,
  "nbformat_minor": 0,
  "metadata": {
    "colab": {
      "provenance": []
    },
    "kernelspec": {
      "name": "python3",
      "display_name": "Python 3"
    },
    "language_info": {
      "name": "python"
    }
  },
  "cells": [
    {
      "cell_type": "code",
      "execution_count": 1,
      "metadata": {
        "colab": {
          "base_uri": "https://localhost:8080/"
        },
        "id": "ytbD62Wb2pVR",
        "outputId": "dd9618ef-5c83-4fdf-8d6e-e026a80c425e"
      },
      "outputs": [
        {
          "output_type": "stream",
          "name": "stdout",
          "text": [
            "Collecting pyspark\n",
            "  Using cached pyspark-3.5.1.tar.gz (317.0 MB)\n",
            "  Preparing metadata (setup.py) ... \u001b[?25l\u001b[?25hdone\n",
            "Requirement already satisfied: py4j==0.10.9.7 in /usr/local/lib/python3.10/dist-packages (from pyspark) (0.10.9.7)\n",
            "Building wheels for collected packages: pyspark\n",
            "  Building wheel for pyspark (setup.py) ... \u001b[?25l\u001b[?25hdone\n",
            "  Created wheel for pyspark: filename=pyspark-3.5.1-py2.py3-none-any.whl size=317488491 sha256=e1d88164527b98b03f182cf1427e9d258499bf032833e7b65216cd68c9a54535\n",
            "  Stored in directory: /root/.cache/pip/wheels/80/1d/60/2c256ed38dddce2fdd93be545214a63e02fbd8d74fb0b7f3a6\n",
            "Successfully built pyspark\n",
            "Installing collected packages: pyspark\n",
            "Successfully installed pyspark-3.5.1\n"
          ]
        }
      ],
      "source": [
        "pip install pyspark"
      ]
    },
    {
      "cell_type": "code",
      "source": [
        "from pyspark.sql import SparkSession\n",
        "from pyspark.sql import functions as F\n",
        "\n",
        "# Initialize Spark session\n",
        "spark = SparkSession.builder.appName('DiabetesAnalysis').getOrCreate()\n"
      ],
      "metadata": {
        "id": "Gdm9oAF83Vwa"
      },
      "execution_count": 2,
      "outputs": []
    },
    {
      "cell_type": "code",
      "source": [
        "data = spark.read.csv('Diabetes.csv', header=True, inferSchema=True)\n"
      ],
      "metadata": {
        "id": "WqHbkwDB84hx"
      },
      "execution_count": 4,
      "outputs": []
    },
    {
      "cell_type": "code",
      "source": [
        "data.show()"
      ],
      "metadata": {
        "colab": {
          "base_uri": "https://localhost:8080/"
        },
        "id": "mxWykSu98Hx3",
        "outputId": "566ff4aa-ec58-4ba7-bea4-08ad246317b5"
      },
      "execution_count": 5,
      "outputs": [
        {
          "output_type": "stream",
          "name": "stdout",
          "text": [
            "+-----------+-------+-------------+-------------+-------+----+------------------------+---+-------+\n",
            "|Pregnancies|Glucose|BloodPressure|SkinThickness|Insulin| BMI|DiabetesPedigreeFunction|Age|Outcome|\n",
            "+-----------+-------+-------------+-------------+-------+----+------------------------+---+-------+\n",
            "|          6|    148|           72|           35|      0|33.6|                   0.627| 50|      1|\n",
            "|          1|     85|           66|           29|      0|26.6|                   0.351| 31|      0|\n",
            "|          8|    183|           64|            0|      0|23.3|                   0.672| 32|      1|\n",
            "|          1|     89|           66|           23|     94|28.1|                   0.167| 21|      0|\n",
            "|          0|    137|           40|           35|    168|43.1|                   2.288| 33|      1|\n",
            "|          5|    116|           74|            0|      0|25.6|                   0.201| 30|      0|\n",
            "|          3|     78|           50|           32|     88|31.0|                   0.248| 26|      1|\n",
            "|         10|    115|            0|            0|      0|35.3|                   0.134| 29|      0|\n",
            "|          2|    197|           70|           45|    543|30.5|                   0.158| 53|      1|\n",
            "|          8|    125|           96|            0|      0| 0.0|                   0.232| 54|      1|\n",
            "|          4|    110|           92|            0|      0|37.6|                   0.191| 30|      0|\n",
            "|         10|    168|           74|            0|      0|38.0|                   0.537| 34|      1|\n",
            "|         10|    139|           80|            0|      0|27.1|                   1.441| 57|      0|\n",
            "|          1|    189|           60|           23|    846|30.1|                   0.398| 59|      1|\n",
            "|          5|    166|           72|           19|    175|25.8|                   0.587| 51|      1|\n",
            "|          7|    100|            0|            0|      0|30.0|                   0.484| 32|      1|\n",
            "|          0|    118|           84|           47|    230|45.8|                   0.551| 31|      1|\n",
            "|          7|    107|           74|            0|      0|29.6|                   0.254| 31|      1|\n",
            "|          1|    103|           30|           38|     83|43.3|                   0.183| 33|      0|\n",
            "|          1|    115|           70|           30|     96|34.6|                   0.529| 32|      1|\n",
            "+-----------+-------+-------------+-------------+-------+----+------------------------+---+-------+\n",
            "only showing top 20 rows\n",
            "\n"
          ]
        }
      ]
    },
    {
      "cell_type": "code",
      "source": [
        "# Sort data by the 'Glucose' column in ascending order\n",
        "sorted_data = data.sort('Glucose')\n",
        "\n",
        "# Show the sorted results\n",
        "sorted_data.show()\n",
        "\n",
        "# Sort data by the 'Glucose' column in descending order\n",
        "sorted_data_desc = data.sort(data['Glucose'].desc())\n",
        "\n",
        "# Show the sorted results\n",
        "sorted_data_desc.show()\n",
        "\n",
        "# Stop Spark session\n",
        "spark.stop()\n"
      ],
      "metadata": {
        "colab": {
          "base_uri": "https://localhost:8080/"
        },
        "id": "86Nogm3G9E3_",
        "outputId": "eff1daf7-3a3c-464b-e487-f35e15693fe5"
      },
      "execution_count": 6,
      "outputs": [
        {
          "output_type": "stream",
          "name": "stdout",
          "text": [
            "+-----------+-------+-------------+-------------+-------+----+------------------------+---+-------+\n",
            "|Pregnancies|Glucose|BloodPressure|SkinThickness|Insulin| BMI|DiabetesPedigreeFunction|Age|Outcome|\n",
            "+-----------+-------+-------------+-------------+-------+----+------------------------+---+-------+\n",
            "|          1|      0|           48|           20|      0|24.7|                    0.14| 22|      0|\n",
            "|          1|      0|           68|           35|      0|32.0|                   0.389| 22|      0|\n",
            "|          1|      0|           74|           20|     23|27.7|                   0.299| 21|      0|\n",
            "|          5|      0|           80|           32|      0|41.0|                   0.346| 37|      1|\n",
            "|          6|      0|           68|           41|      0|39.0|                   0.727| 41|      1|\n",
            "|          5|     44|           62|            0|      0|25.0|                   0.587| 36|      0|\n",
            "|          2|     56|           56|           28|     45|24.2|                   0.332| 22|      0|\n",
            "|          9|     57|           80|           37|      0|32.8|                   0.096| 41|      0|\n",
            "|          0|     57|           60|            0|      0|21.7|                   0.735| 67|      0|\n",
            "|          3|     61|           82|           28|      0|34.4|                   0.243| 46|      0|\n",
            "|          7|     62|           78|            0|      0|32.6|                   0.391| 41|      0|\n",
            "|          8|     65|           72|           23|      0|32.0|                     0.6| 42|      0|\n",
            "|          0|     67|           76|            0|      0|45.3|                   0.194| 46|      0|\n",
            "|          2|     68|           70|           32|     66|25.0|                   0.187| 25|      0|\n",
            "|          2|     68|           62|           13|     15|20.1|                   0.257| 23|      0|\n",
            "|         10|     68|          106|           23|     49|35.5|                   0.285| 47|      0|\n",
            "|          1|     71|           48|           18|     76|20.4|                   0.323| 22|      0|\n",
            "|          2|     71|           70|           27|      0|28.0|                   0.586| 22|      0|\n",
            "|          1|     71|           78|           50|     45|33.2|                   0.422| 21|      0|\n",
            "|          1|     71|           62|            0|      0|21.8|                   0.416| 26|      0|\n",
            "+-----------+-------+-------------+-------------+-------+----+------------------------+---+-------+\n",
            "only showing top 20 rows\n",
            "\n",
            "+-----------+-------+-------------+-------------+-------+----+------------------------+---+-------+\n",
            "|Pregnancies|Glucose|BloodPressure|SkinThickness|Insulin| BMI|DiabetesPedigreeFunction|Age|Outcome|\n",
            "+-----------+-------+-------------+-------------+-------+----+------------------------+---+-------+\n",
            "|          1|    199|           76|           43|      0|42.9|                   1.394| 22|      1|\n",
            "|          0|    198|           66|           32|    274|41.3|                   0.502| 28|      1|\n",
            "|          2|    197|           70|           45|    543|30.5|                   0.158| 53|      1|\n",
            "|          4|    197|           70|           39|    744|36.7|                   2.329| 31|      0|\n",
            "|          8|    197|           74|            0|      0|25.9|                   1.191| 39|      1|\n",
            "|          2|    197|           70|           99|      0|34.7|                   0.575| 62|      1|\n",
            "|          7|    196|           90|            0|      0|39.8|                   0.451| 41|      1|\n",
            "|          8|    196|           76|           29|    280|37.5|                   0.605| 57|      1|\n",
            "|          1|    196|           76|           36|    249|36.5|                   0.875| 29|      1|\n",
            "|          7|    195|           70|           33|    145|25.1|                   0.163| 55|      1|\n",
            "|          6|    195|           70|            0|      0|30.9|                   0.328| 31|      1|\n",
            "|          7|    194|           68|           28|      0|35.9|                   0.745| 41|      1|\n",
            "|          6|    194|           78|            0|      0|23.5|                   0.129| 59|      1|\n",
            "|          8|    194|           80|            0|      0|26.1|                   0.551| 67|      0|\n",
            "|          3|    193|           70|           31|      0|34.9|                   0.241| 25|      1|\n",
            "|          1|    193|           50|           16|    375|25.9|                   0.655| 24|      0|\n",
            "|          3|    191|           68|           15|    130|30.9|                   0.299| 34|      0|\n",
            "|          6|    190|           92|            0|      0|35.5|                   0.278| 66|      1|\n",
            "|          4|    189|          110|           31|      0|28.5|                    0.68| 37|      0|\n",
            "|          1|    189|           60|           23|    846|30.1|                   0.398| 59|      1|\n",
            "+-----------+-------+-------------+-------------+-------+----+------------------------+---+-------+\n",
            "only showing top 20 rows\n",
            "\n"
          ]
        }
      ]
    }
  ]
}
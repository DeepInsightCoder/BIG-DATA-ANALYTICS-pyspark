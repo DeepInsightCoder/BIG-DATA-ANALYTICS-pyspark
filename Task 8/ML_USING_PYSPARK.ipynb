{
  "cells": [
    {
      "cell_type": "code",
      "execution_count": null,
      "id": "88c35476-e6da-45b7-ba10-b8ae1bd17a85",
      "metadata": {
        "colab": {
          "base_uri": "https://localhost:8080/"
        },
        "id": "88c35476-e6da-45b7-ba10-b8ae1bd17a85",
        "outputId": "9784bc50-02ae-4397-b94c-8616039dbc9b"
      },
      "outputs": [
        {
          "output_type": "stream",
          "name": "stdout",
          "text": [
            "Collecting pyspark\n",
            "  Downloading pyspark-3.5.1.tar.gz (317.0 MB)\n",
            "\u001b[2K     \u001b[90m━━━━━━━━━━━━━━━━━━━━━━━━━━━━━━━━━━━━━━━━\u001b[0m \u001b[32m317.0/317.0 MB\u001b[0m \u001b[31m3.5 MB/s\u001b[0m eta \u001b[36m0:00:00\u001b[0m\n",
            "\u001b[?25h  Preparing metadata (setup.py) ... \u001b[?25l\u001b[?25hdone\n",
            "Requirement already satisfied: py4j==0.10.9.7 in /usr/local/lib/python3.10/dist-packages (from pyspark) (0.10.9.7)\n",
            "Building wheels for collected packages: pyspark\n",
            "  Building wheel for pyspark (setup.py) ... \u001b[?25l\u001b[?25hdone\n",
            "  Created wheel for pyspark: filename=pyspark-3.5.1-py2.py3-none-any.whl size=317488491 sha256=68e1cd31201bb08cc5045f28c0cb3ca74f19349a56a7c8fb3db983b88e0e8601\n",
            "  Stored in directory: /root/.cache/pip/wheels/80/1d/60/2c256ed38dddce2fdd93be545214a63e02fbd8d74fb0b7f3a6\n",
            "Successfully built pyspark\n",
            "Installing collected packages: pyspark\n",
            "Successfully installed pyspark-3.5.1\n"
          ]
        }
      ],
      "source": [
        "pip install pyspark"
      ]
    },
    {
      "cell_type": "markdown",
      "source": [
        "**INITIALIZE SPARKSESSION**"
      ],
      "metadata": {
        "id": "z_m1vb37Bq7X"
      },
      "id": "z_m1vb37Bq7X"
    },
    {
      "cell_type": "code",
      "source": [
        "from pyspark.sql import SparkSession\n",
        "\n",
        "spark = SparkSession.builder \\\n",
        "    .appName(\"First ML Model\") \\\n",
        "    .getOrCreate()"
      ],
      "metadata": {
        "id": "tfiRoGLg2hBU"
      },
      "id": "tfiRoGLg2hBU",
      "execution_count": null,
      "outputs": []
    },
    {
      "cell_type": "markdown",
      "source": [
        "**LOAD DATA**"
      ],
      "metadata": {
        "id": "stJ9dJJ7CCE1"
      },
      "id": "stJ9dJJ7CCE1"
    },
    {
      "cell_type": "code",
      "execution_count": null,
      "id": "3da84392-d9d0-402d-bbe8-d33843d7ca24",
      "metadata": {
        "id": "3da84392-d9d0-402d-bbe8-d33843d7ca24"
      },
      "outputs": [],
      "source": [
        "data = spark.read.csv('Diabetes.csv', header=True, inferSchema=True)\n"
      ]
    },
    {
      "cell_type": "code",
      "execution_count": null,
      "id": "c5324e46-aa01-4a66-9f50-527f01214b82",
      "metadata": {
        "colab": {
          "base_uri": "https://localhost:8080/"
        },
        "id": "c5324e46-aa01-4a66-9f50-527f01214b82",
        "outputId": "4a52f293-eacf-4637-94b4-c73223583a38"
      },
      "outputs": [
        {
          "output_type": "stream",
          "name": "stdout",
          "text": [
            "+-----------+-------+-------------+-------------+-------+----+------------------------+---+-------+\n",
            "|Pregnancies|Glucose|BloodPressure|SkinThickness|Insulin| BMI|DiabetesPedigreeFunction|Age|Outcome|\n",
            "+-----------+-------+-------------+-------------+-------+----+------------------------+---+-------+\n",
            "|          6|    148|           72|           35|      0|33.6|                   0.627| 50|      1|\n",
            "|          1|     85|           66|           29|      0|26.6|                   0.351| 31|      0|\n",
            "|          8|    183|           64|            0|      0|23.3|                   0.672| 32|      1|\n",
            "|          1|     89|           66|           23|     94|28.1|                   0.167| 21|      0|\n",
            "|          0|    137|           40|           35|    168|43.1|                   2.288| 33|      1|\n",
            "+-----------+-------+-------------+-------------+-------+----+------------------------+---+-------+\n",
            "only showing top 5 rows\n",
            "\n"
          ]
        }
      ],
      "source": [
        "data.show(5)"
      ]
    },
    {
      "cell_type": "code",
      "execution_count": null,
      "id": "451c951b-f508-4000-821f-6455549954df",
      "metadata": {
        "colab": {
          "base_uri": "https://localhost:8080/"
        },
        "id": "451c951b-f508-4000-821f-6455549954df",
        "outputId": "a4ab9fe1-6074-4af7-9e87-eb0a5242ea23"
      },
      "outputs": [
        {
          "output_type": "stream",
          "name": "stdout",
          "text": [
            "root\n",
            " |-- Pregnancies: integer (nullable = true)\n",
            " |-- Glucose: integer (nullable = true)\n",
            " |-- BloodPressure: integer (nullable = true)\n",
            " |-- SkinThickness: integer (nullable = true)\n",
            " |-- Insulin: integer (nullable = true)\n",
            " |-- BMI: double (nullable = true)\n",
            " |-- DiabetesPedigreeFunction: double (nullable = true)\n",
            " |-- Age: integer (nullable = true)\n",
            " |-- Outcome: integer (nullable = true)\n",
            "\n"
          ]
        }
      ],
      "source": [
        "data.printSchema()"
      ]
    },
    {
      "cell_type": "code",
      "execution_count": null,
      "id": "c7bb1000-963b-4c9d-8bf2-8a6e152c2a02",
      "metadata": {
        "colab": {
          "base_uri": "https://localhost:8080/"
        },
        "id": "c7bb1000-963b-4c9d-8bf2-8a6e152c2a02",
        "outputId": "8a1440d2-b901-4d04-a8df-269bbaea1114"
      },
      "outputs": [
        {
          "output_type": "stream",
          "name": "stdout",
          "text": [
            "+-------+------------------+-----------------+------------------+------------------+------------------+------------------+------------------------+------------------+------------------+\n",
            "|summary|       Pregnancies|          Glucose|     BloodPressure|     SkinThickness|           Insulin|               BMI|DiabetesPedigreeFunction|               Age|           Outcome|\n",
            "+-------+------------------+-----------------+------------------+------------------+------------------+------------------+------------------------+------------------+------------------+\n",
            "|  count|               768|              768|               768|               768|               768|               768|                     768|               768|               768|\n",
            "|   mean|3.8450520833333335|     120.89453125|       69.10546875|20.536458333333332| 79.79947916666667|31.992578124999977|      0.4718763020833327|33.240885416666664|0.3489583333333333|\n",
            "| stddev|  3.36957806269887|31.97261819513622|19.355807170644777|15.952217567727642|115.24400235133803| 7.884160320375441|       0.331328595012775|11.760231540678689| 0.476951377242799|\n",
            "|    min|                 0|                0|                 0|                 0|                 0|               0.0|                   0.078|                21|                 0|\n",
            "|    max|                17|              199|               122|                99|               846|              67.1|                    2.42|                81|                 1|\n",
            "+-------+------------------+-----------------+------------------+------------------+------------------+------------------+------------------------+------------------+------------------+\n",
            "\n"
          ]
        }
      ],
      "source": [
        "data.describe().show()"
      ]
    },
    {
      "cell_type": "code",
      "execution_count": null,
      "id": "4f635c76-acf9-4da0-9149-2611b178d6ed",
      "metadata": {
        "colab": {
          "base_uri": "https://localhost:8080/"
        },
        "id": "4f635c76-acf9-4da0-9149-2611b178d6ed",
        "outputId": "9ba42074-6b53-47d0-fd62-ad1f53c3de77"
      },
      "outputs": [
        {
          "output_type": "execute_result",
          "data": {
            "text/plain": [
              "DataFrame[Pregnancies: int, Glucose: int, BloodPressure: int, SkinThickness: int, Insulin: int, BMI: double, DiabetesPedigreeFunction: double, Age: int, Outcome: int]"
            ]
          },
          "metadata": {},
          "execution_count": 7
        }
      ],
      "source": [
        "data"
      ]
    },
    {
      "cell_type": "code",
      "execution_count": null,
      "id": "dc911bc6-f0f4-4fd3-a462-9cd86849aa5a",
      "metadata": {
        "colab": {
          "base_uri": "https://localhost:8080/"
        },
        "id": "dc911bc6-f0f4-4fd3-a462-9cd86849aa5a",
        "outputId": "3b1edd79-1c57-483f-8f00-eba86beaf07f"
      },
      "outputs": [
        {
          "output_type": "stream",
          "name": "stdout",
          "text": [
            "+-----------+-------+-------------+-------------+-------+----+------------------------+---+-------+\n",
            "|Pregnancies|Glucose|BloodPressure|SkinThickness|Insulin| BMI|DiabetesPedigreeFunction|Age|Outcome|\n",
            "+-----------+-------+-------------+-------------+-------+----+------------------------+---+-------+\n",
            "|          6|    148|           72|           35|      0|33.6|                   0.627| 50|      1|\n",
            "|          1|     85|           66|           29|      0|26.6|                   0.351| 31|      0|\n",
            "|          8|    183|           64|            0|      0|23.3|                   0.672| 32|      1|\n",
            "|          1|     89|           66|           23|     94|28.1|                   0.167| 21|      0|\n",
            "|          0|    137|           40|           35|    168|43.1|                   2.288| 33|      1|\n",
            "|          5|    116|           74|            0|      0|25.6|                   0.201| 30|      0|\n",
            "|          3|     78|           50|           32|     88|31.0|                   0.248| 26|      1|\n",
            "|         10|    115|            0|            0|      0|35.3|                   0.134| 29|      0|\n",
            "|          2|    197|           70|           45|    543|30.5|                   0.158| 53|      1|\n",
            "|          8|    125|           96|            0|      0| 0.0|                   0.232| 54|      1|\n",
            "|          4|    110|           92|            0|      0|37.6|                   0.191| 30|      0|\n",
            "|         10|    168|           74|            0|      0|38.0|                   0.537| 34|      1|\n",
            "|         10|    139|           80|            0|      0|27.1|                   1.441| 57|      0|\n",
            "|          1|    189|           60|           23|    846|30.1|                   0.398| 59|      1|\n",
            "|          5|    166|           72|           19|    175|25.8|                   0.587| 51|      1|\n",
            "|          7|    100|            0|            0|      0|30.0|                   0.484| 32|      1|\n",
            "|          0|    118|           84|           47|    230|45.8|                   0.551| 31|      1|\n",
            "|          7|    107|           74|            0|      0|29.6|                   0.254| 31|      1|\n",
            "|          1|    103|           30|           38|     83|43.3|                   0.183| 33|      0|\n",
            "|          1|    115|           70|           30|     96|34.6|                   0.529| 32|      1|\n",
            "+-----------+-------+-------------+-------------+-------+----+------------------------+---+-------+\n",
            "only showing top 20 rows\n",
            "\n"
          ]
        }
      ],
      "source": [
        "data.show()"
      ]
    },
    {
      "cell_type": "code",
      "execution_count": null,
      "id": "8ecc0c3b-48b4-4dc1-8392-c41c3604c136",
      "metadata": {
        "colab": {
          "base_uri": "https://localhost:8080/"
        },
        "id": "8ecc0c3b-48b4-4dc1-8392-c41c3604c136",
        "outputId": "0c176684-b153-46dc-e13a-77f580180876"
      },
      "outputs": [
        {
          "output_type": "stream",
          "name": "stdout",
          "text": [
            "+-----------+-------+-------------+-------------+-------+---+------------------------+---+-------+\n",
            "|Pregnancies|Glucose|BloodPressure|SkinThickness|Insulin|BMI|DiabetesPedigreeFunction|Age|Outcome|\n",
            "+-----------+-------+-------------+-------------+-------+---+------------------------+---+-------+\n",
            "|          0|      0|            0|            0|      0|  0|                       0|  0|      0|\n",
            "+-----------+-------+-------------+-------------+-------+---+------------------------+---+-------+\n",
            "\n"
          ]
        }
      ],
      "source": [
        "from pyspark.sql.functions import col, isnan, when, count\n",
        "\n",
        "data.select([count(when(isnan(c) | col(c).isNull(), c)).alias(c) for c in data.columns]).show()\n"
      ]
    },
    {
      "cell_type": "code",
      "execution_count": null,
      "id": "df1cddb6-0fda-4655-ac6d-090b18fa5f79",
      "metadata": {
        "colab": {
          "base_uri": "https://localhost:8080/"
        },
        "id": "df1cddb6-0fda-4655-ac6d-090b18fa5f79",
        "outputId": "2a18454b-092d-46ad-ef25-62f0cafe16b9"
      },
      "outputs": [
        {
          "output_type": "stream",
          "name": "stdout",
          "text": [
            "+-------+-----+\n",
            "|Outcome|count|\n",
            "+-------+-----+\n",
            "|      1|  268|\n",
            "|      0|  500|\n",
            "+-------+-----+\n",
            "\n"
          ]
        }
      ],
      "source": [
        "# Count occurrences of each class in the target column \"Outcome\"\n",
        "class_counts = data.groupBy(\"Outcome\").count()\n",
        "class_counts.show()\n",
        "\n",
        "# Convert to Pandas DataFrame for easier manipulation and visualization\n",
        "class_counts_pd = class_counts.toPandas()\n"
      ]
    },
    {
      "cell_type": "code",
      "execution_count": null,
      "id": "eaaec2ff-539d-435c-8f8f-11a6fddd8aa9",
      "metadata": {
        "colab": {
          "base_uri": "https://localhost:8080/"
        },
        "id": "eaaec2ff-539d-435c-8f8f-11a6fddd8aa9",
        "outputId": "0d6d7c8d-4c21-4e5c-ac3b-b9a6f2050f46"
      },
      "outputs": [
        {
          "output_type": "stream",
          "name": "stdout",
          "text": [
            "DenseMatrix([[ 1.        ,  0.12945867,  0.14128198, -0.08167177, -0.07353461,\n",
            "               0.01768309, -0.03352267,  0.54434123,  0.22189815],\n",
            "             [ 0.12945867,  1.        ,  0.15258959,  0.05732789,  0.33135711,\n",
            "               0.22107107,  0.1373373 ,  0.26351432,  0.4665814 ],\n",
            "             [ 0.14128198,  0.15258959,  1.        ,  0.20737054,  0.08893338,\n",
            "               0.28180529,  0.04126495,  0.23952795,  0.06506836],\n",
            "             [-0.08167177,  0.05732789,  0.20737054,  1.        ,  0.43678257,\n",
            "               0.3925732 ,  0.18392757, -0.11397026,  0.07475223],\n",
            "             [-0.07353461,  0.33135711,  0.08893338,  0.43678257,  1.        ,\n",
            "               0.19785906,  0.18507093, -0.04216295,  0.13054795],\n",
            "             [ 0.01768309,  0.22107107,  0.28180529,  0.3925732 ,  0.19785906,\n",
            "               1.        ,  0.14064695,  0.03624187,  0.29269466],\n",
            "             [-0.03352267,  0.1373373 ,  0.04126495,  0.18392757,  0.18507093,\n",
            "               0.14064695,  1.        ,  0.03356131,  0.17384407],\n",
            "             [ 0.54434123,  0.26351432,  0.23952795, -0.11397026, -0.04216295,\n",
            "               0.03624187,  0.03356131,  1.        ,  0.23835598],\n",
            "             [ 0.22189815,  0.4665814 ,  0.06506836,  0.07475223,  0.13054795,\n",
            "               0.29269466,  0.17384407,  0.23835598,  1.        ]])\n"
          ]
        }
      ],
      "source": [
        "from pyspark.ml.stat import Correlation\n",
        "from pyspark.ml.feature import VectorAssembler\n",
        "import pyspark.sql.functions as F\n",
        "\n",
        "numeric_cols = [col[0] for col in data.dtypes if col[1] != 'string']\n",
        "assembler = VectorAssembler(inputCols=numeric_cols, outputCol=\"features\")\n",
        "data_vector = assembler.transform(data).select(\"features\")\n",
        "\n",
        "correlation_matrix = Correlation.corr(data_vector, \"features\").head()[0]\n",
        "print(correlation_matrix)\n"
      ]
    },
    {
      "cell_type": "code",
      "execution_count": null,
      "id": "984e9cc3-3e76-41ca-be9d-9a38528093fa",
      "metadata": {
        "id": "984e9cc3-3e76-41ca-be9d-9a38528093fa"
      },
      "outputs": [],
      "source": [
        "pandas_df = data.toPandas()\n"
      ]
    },
    {
      "cell_type": "code",
      "execution_count": null,
      "id": "e47b6627-e048-4f3c-9e13-f9c56756f28d",
      "metadata": {
        "id": "e47b6627-e048-4f3c-9e13-f9c56756f28d"
      },
      "outputs": [],
      "source": [
        "# Assuming the target variable is named \"Outcome\"\n",
        "independent_cols = [col for col in data.columns if col != \"Outcome\"]\n",
        "\n",
        "# Select independent variables\n",
        "independent_data = data.select(independent_cols)\n"
      ]
    },
    {
      "cell_type": "code",
      "execution_count": null,
      "id": "5087a477-b936-4fd2-b36e-047382f06691",
      "metadata": {
        "id": "5087a477-b936-4fd2-b36e-047382f06691"
      },
      "outputs": [],
      "source": [
        "from pyspark.ml.feature import VectorAssembler\n",
        "from payspark.ml.stat import Correlation\n",
        "\n",
        "# Assemble features into a single vector column\n",
        "assembler = VectorAssembler(inputCols=independent_cols, outputCol=\"features\")\n",
        "assembled_data = assembler.transform(independent_data)\n",
        "\n"
      ]
    },
    {
      "cell_type": "code",
      "execution_count": null,
      "id": "898af1d4-1ecd-47fc-9c5b-2542c2ad15ca",
      "metadata": {
        "colab": {
          "base_uri": "https://localhost:8080/"
        },
        "id": "898af1d4-1ecd-47fc-9c5b-2542c2ad15ca",
        "outputId": "4ff205cc-2341-4a27-f4cc-fa697810d687"
      },
      "outputs": [
        {
          "output_type": "stream",
          "name": "stdout",
          "text": [
            "+-----------+-------+-------------+-------------+-------+---+------------------------+---+-------+\n",
            "|Pregnancies|Glucose|BloodPressure|SkinThickness|Insulin|BMI|DiabetesPedigreeFunction|Age|Outcome|\n",
            "+-----------+-------+-------------+-------------+-------+---+------------------------+---+-------+\n",
            "|          0|      0|            0|            0|      0|  0|                       0|  0|      0|\n",
            "+-----------+-------+-------------+-------------+-------+---+------------------------+---+-------+\n",
            "\n"
          ]
        }
      ],
      "source": [
        "from pyspark.sql.functions import col, isnan, when, count\n",
        "\n",
        "# Count missing values in each column\n",
        "missing_counts = data.select([count(when(isnan(c) | col(c).isNull(), c)).alias(c) for c in data.columns])\n",
        "missing_counts.show()\n"
      ]
    },
    {
      "cell_type": "code",
      "execution_count": null,
      "id": "1fe3a340-9045-4d32-acbb-811a83e8ae23",
      "metadata": {
        "id": "1fe3a340-9045-4d32-acbb-811a83e8ae23"
      },
      "outputs": [],
      "source": [
        "# Drop rows with any missing values\n",
        "data_no_missing = data.dropna()\n"
      ]
    },
    {
      "cell_type": "code",
      "execution_count": null,
      "id": "1eb7b06f-5c1d-4d70-b8e2-9af3f3aa1066",
      "metadata": {
        "id": "1eb7b06f-5c1d-4d70-b8e2-9af3f3aa1066"
      },
      "outputs": [],
      "source": [
        "from pyspark.ml.feature import VectorAssembler\n"
      ]
    },
    {
      "cell_type": "code",
      "execution_count": null,
      "id": "8f33a35d-c125-4a11-8a0a-3c5d780ad8f1",
      "metadata": {
        "id": "8f33a35d-c125-4a11-8a0a-3c5d780ad8f1"
      },
      "outputs": [],
      "source": [
        "from pyspark.ml.feature import VectorAssembler\n",
        "\n",
        "# Define the input feature columns\n",
        "input_cols = ['Pregnancies', 'Glucose', 'BloodPressure', 'SkinThickness', 'Insulin', 'BMI', 'DiabetesPedigreeFunction', 'Age']\n",
        "\n",
        "# Name of the output vector column\n",
        "output_col = 'features'\n",
        "\n",
        "# Create the VectorAssembler object\n",
        "assembler = VectorAssembler(inputCols=input_cols, outputCol=output_col)\n",
        "\n",
        "# Apply the VectorAssembler to transform the DataFrame\n",
        "data_assembled = assembler.transform(data)\n"
      ]
    },
    {
      "cell_type": "markdown",
      "source": [
        "**MODELS TRAINING**"
      ],
      "metadata": {
        "id": "z03LHKOEE819"
      },
      "id": "z03LHKOEE819"
    },
    {
      "cell_type": "code",
      "execution_count": null,
      "id": "77a972f5-827f-495b-91ca-c4fd0f3da157",
      "metadata": {
        "colab": {
          "base_uri": "https://localhost:8080/"
        },
        "id": "77a972f5-827f-495b-91ca-c4fd0f3da157",
        "outputId": "32b069ee-f6ec-4273-b7bc-94fa1a558cc9"
      },
      "outputs": [
        {
          "output_type": "stream",
          "name": "stdout",
          "text": [
            "Train set count: 645\n",
            "Test set count: 123\n",
            "Random Forest AUC: 0.8377906976744187\n"
          ]
        }
      ],
      "source": [
        "from pyspark.ml.classification import RandomForestClassifier\n",
        "from pyspark.ml.evaluation import BinaryClassificationEvaluator\n",
        "from pyspark.ml.feature import VectorAssembler\n",
        "from pyspark.sql import SparkSession\n",
        "\n",
        "# Create a SparkSession\n",
        "spark = SparkSession.builder \\\n",
        "    .appName(\"YourApp\") \\\n",
        "    .getOrCreate()\n",
        "\n",
        "# Assuming you already have your DataFrame 'data' and 'data_assembled'\n",
        "\n",
        "# Set seed for reproducibility\n",
        "seed = 42\n",
        "\n",
        "# Split the data into training and testing sets\n",
        "train_data, test_data = data_assembled.randomSplit([0.8, 0.2], seed=42)\n",
        "\n",
        "# Display the number of rows in each set\n",
        "print(\"Train set count:\", train_data.count())\n",
        "print(\"Test set count:\", test_data.count())\n",
        "\n",
        "# Define the model\n",
        "rf = RandomForestClassifier(labelCol=\"Outcome\", featuresCol=\"features\", seed=seed)\n",
        "\n",
        "# Train the model\n",
        "rf_model = rf.fit(train_data)\n",
        "\n",
        "# Make predictions on test data\n",
        "predictions = rf_model.transform(test_data)\n",
        "\n",
        "# Evaluate the model\n",
        "evaluator = BinaryClassificationEvaluator(labelCol=\"Outcome\")\n",
        "auc = evaluator.evaluate(predictions)\n",
        "\n",
        "print(\"Random Forest AUC:\", auc)\n"
      ]
    },
    {
      "cell_type": "code",
      "execution_count": null,
      "id": "967b0233-2b55-4d0f-8780-69d8aa42378e",
      "metadata": {
        "colab": {
          "base_uri": "https://localhost:8080/"
        },
        "id": "967b0233-2b55-4d0f-8780-69d8aa42378e",
        "outputId": "419425e0-5329-45d0-f2ff-4c96195fcea2"
      },
      "outputs": [
        {
          "output_type": "stream",
          "name": "stdout",
          "text": [
            "Random Forest AUC: 0.8377906976744187\n"
          ]
        }
      ],
      "source": [
        "from pyspark.ml.classification import RandomForestClassifier\n",
        "from pyspark.ml.evaluation import BinaryClassificationEvaluator\n",
        "\n",
        "# Define the Random Forest Classifier model\n",
        "rf = RandomForestClassifier(labelCol=\"Outcome\", featuresCol=\"features\", seed=seed)\n",
        "\n",
        "# Train the Random Forest Classifier model\n",
        "rf_model = rf.fit(train_data)\n",
        "\n",
        "# Make predictions on test data\n",
        "rf_predictions = rf_model.transform(test_data)\n",
        "\n",
        "# Evaluate the Random Forest Classifier model\n",
        "evaluator = BinaryClassificationEvaluator(labelCol=\"Outcome\")\n",
        "rf_auc = evaluator.evaluate(rf_predictions)\n",
        "\n",
        "print(\"Random Forest AUC:\", rf_auc)\n"
      ]
    },
    {
      "cell_type": "code",
      "execution_count": null,
      "id": "25ddc1c5-0d58-4c79-ad46-b8df08a53a29",
      "metadata": {
        "colab": {
          "base_uri": "https://localhost:8080/"
        },
        "id": "25ddc1c5-0d58-4c79-ad46-b8df08a53a29",
        "outputId": "a0ed0258-3914-45b5-b8e3-f0515426deb8"
      },
      "outputs": [
        {
          "output_type": "stream",
          "name": "stdout",
          "text": [
            "Decision Tree AUC: 0.747093023255814\n"
          ]
        }
      ],
      "source": [
        "from pyspark.ml.classification import DecisionTreeClassifier\n",
        "from pyspark.ml.evaluation import BinaryClassificationEvaluator\n",
        "\n",
        "# Define the Decision Tree Classifier model\n",
        "dt = DecisionTreeClassifier(labelCol=\"Outcome\", featuresCol=\"features\", seed=seed)\n",
        "\n",
        "# Train the Decision Tree Classifier model\n",
        "dt_model = dt.fit(train_data)\n",
        "\n",
        "# Make predictions on test data\n",
        "dt_predictions = dt_model.transform(test_data)\n",
        "\n",
        "# Evaluate the Decision Tree Classifier model\n",
        "evaluator = BinaryClassificationEvaluator(labelCol=\"Outcome\")\n",
        "dt_auc = evaluator.evaluate(dt_predictions)\n",
        "\n",
        "print(\"Decision Tree AUC:\", dt_auc)\n"
      ]
    },
    {
      "cell_type": "code",
      "execution_count": null,
      "id": "cbb58362-bdbf-4b3a-a43d-773b27a6fac4",
      "metadata": {
        "colab": {
          "base_uri": "https://localhost:8080/"
        },
        "id": "cbb58362-bdbf-4b3a-a43d-773b27a6fac4",
        "outputId": "821fb2aa-6a66-4c71-fa9c-c70689c6c4db"
      },
      "outputs": [
        {
          "output_type": "stream",
          "name": "stdout",
          "text": [
            "Gradient-Boosted Tree AUC: 0.7991279069767443\n"
          ]
        }
      ],
      "source": [
        "from pyspark.ml.classification import GBTClassifier\n",
        "from pyspark.ml.evaluation import BinaryClassificationEvaluator\n",
        "\n",
        "# Define the Gradient-Boosted Tree Classifier model\n",
        "gbt = GBTClassifier(labelCol=\"Outcome\", featuresCol=\"features\", maxIter=10, seed=seed)\n",
        "\n",
        "# Train the Gradient-Boosted Tree Classifier model\n",
        "gbt_model = gbt.fit(train_data)\n",
        "\n",
        "# Make predictions on test data\n",
        "gbt_predictions = gbt_model.transform(test_data)\n",
        "\n",
        "# Evaluate the Gradient-Boosted Tree Classifier model\n",
        "evaluator = BinaryClassificationEvaluator(labelCol=\"Outcome\")\n",
        "gbt_auc = evaluator.evaluate(gbt_predictions)\n",
        "\n",
        "print(\"Gradient-Boosted Tree AUC:\", gbt_auc)\n"
      ]
    },
    {
      "cell_type": "code",
      "execution_count": null,
      "id": "fdf2731c-3c03-410b-9f50-75cd6d197bfb",
      "metadata": {
        "colab": {
          "base_uri": "https://localhost:8080/"
        },
        "id": "fdf2731c-3c03-410b-9f50-75cd6d197bfb",
        "outputId": "baa411c8-57a0-4ccc-9248-3371d966e9dc"
      },
      "outputs": [
        {
          "output_type": "stream",
          "name": "stdout",
          "text": [
            "Model Performance:\n",
            "Random Forest AUC: 0.8377906976744187\n",
            "Gradient-Boosted Tree AUC: 0.7991279069767443\n"
          ]
        }
      ],
      "source": [
        "print(\"Model Performance:\")\n",
        "print(\"Random Forest AUC:\", rf_auc)\n",
        "print(\"Gradient-Boosted Tree AUC:\", gbt_auc)"
      ]
    }
  ],
  "metadata": {
    "kernelspec": {
      "display_name": "Python 3 (ipykernel)",
      "language": "python",
      "name": "python3"
    },
    "language_info": {
      "codemirror_mode": {
        "name": "ipython",
        "version": 3
      },
      "file_extension": ".py",
      "mimetype": "text/x-python",
      "name": "python",
      "nbconvert_exporter": "python",
      "pygments_lexer": "ipython3",
      "version": "3.11.7"
    },
    "colab": {
      "provenance": []
    }
  },
  "nbformat": 4,
  "nbformat_minor": 5
}
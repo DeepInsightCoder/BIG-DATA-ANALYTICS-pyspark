{
  "nbformat": 4,
  "nbformat_minor": 0,
  "metadata": {
    "colab": {
      "provenance": []
    },
    "kernelspec": {
      "name": "python3",
      "display_name": "Python 3"
    },
    "language_info": {
      "name": "python"
    }
  },
  "cells": [
    {
      "cell_type": "code",
      "execution_count": 1,
      "metadata": {
        "colab": {
          "base_uri": "https://localhost:8080/"
        },
        "id": "4ntyesYHf24M",
        "outputId": "57791148-4af2-4573-9760-bc41cd1b4d87"
      },
      "outputs": [
        {
          "output_type": "stream",
          "name": "stdout",
          "text": [
            "Collecting pyspark\n",
            "  Downloading pyspark-3.5.1.tar.gz (317.0 MB)\n",
            "\u001b[2K     \u001b[90m━━━━━━━━━━━━━━━━━━━━━━━━━━━━━━━━━━━━━━━━\u001b[0m \u001b[32m317.0/317.0 MB\u001b[0m \u001b[31m3.0 MB/s\u001b[0m eta \u001b[36m0:00:00\u001b[0m\n",
            "\u001b[?25h  Preparing metadata (setup.py) ... \u001b[?25l\u001b[?25hdone\n",
            "Requirement already satisfied: py4j==0.10.9.7 in /usr/local/lib/python3.10/dist-packages (from pyspark) (0.10.9.7)\n",
            "Building wheels for collected packages: pyspark\n",
            "  Building wheel for pyspark (setup.py) ... \u001b[?25l\u001b[?25hdone\n",
            "  Created wheel for pyspark: filename=pyspark-3.5.1-py2.py3-none-any.whl size=317488491 sha256=95258b440196e8392646bc10f69a0cc7fc69e82109f234a48de1ac31a7e62268\n",
            "  Stored in directory: /root/.cache/pip/wheels/80/1d/60/2c256ed38dddce2fdd93be545214a63e02fbd8d74fb0b7f3a6\n",
            "Successfully built pyspark\n",
            "Installing collected packages: pyspark\n",
            "Successfully installed pyspark-3.5.1\n"
          ]
        }
      ],
      "source": [
        "pip install pyspark"
      ]
    },
    {
      "cell_type": "code",
      "source": [
        "from pyspark.sql import SparkSession\n",
        "from pyspark.sql.functions import monotonically_increasing_id"
      ],
      "metadata": {
        "id": "kQ3t8ojyhmT2"
      },
      "execution_count": 2,
      "outputs": []
    },
    {
      "cell_type": "code",
      "source": [
        "# Initialize Spark session\n",
        "spark = SparkSession.builder.appName('BasicPySparkOps').getOrCreate()\n",
        "\n",
        "# Read two CSV files\n",
        "df1 = spark.read.csv('Laptop Price Dataset.csv', header=True, inferSchema=True)\n",
        "df2 = spark.read.csv('Thyroid Disease.csv', header=True, inferSchema=True)"
      ],
      "metadata": {
        "id": "fxfg9H-4hmXB"
      },
      "execution_count": 3,
      "outputs": []
    },
    {
      "cell_type": "code",
      "source": [
        "# Add index to each DataFrame\n",
        "df1 = df1.withColumn(\"id\", monotonically_increasing_id())\n",
        "df2 = df2.withColumn(\"id\", monotonically_increasing_id())"
      ],
      "metadata": {
        "id": "NuwQMWhwhmnh"
      },
      "execution_count": 4,
      "outputs": []
    },
    {
      "cell_type": "code",
      "source": [
        "# Join the DataFrames on the index\n",
        "zipped_df = df1.join(df2, \"id\").drop(\"id\")\n",
        "\n",
        "# Show the result\n",
        "zipped_df.show()\n",
        "\n",
        "# Perform a group by and aggregation\n",
        "aggregated_df = zipped_df.groupBy(\"Age\").agg(\n",
        "    {\"Price\": \"sum\"}\n",
        ")"
      ],
      "metadata": {
        "colab": {
          "base_uri": "https://localhost:8080/"
        },
        "id": "oIhseCIuh36S",
        "outputId": "71fe7133-4f56-4e0b-bac7-ab998ef6eaa6"
      },
      "execution_count": 6,
      "outputs": [
        {
          "output_type": "stream",
          "name": "stdout",
          "text": [
            "+---------+--------------------+--------------------+---------+--------------------+--------------------+--------------------+--------------------+--------------------+--------------------+---+------+-------+----------+---------------+--------------------+--------------------+----------+--------------+-----------+----+---+---+---+-----+-------------+--------+\n",
            "|    Brand| Product_Description|         Screen_Size|      RAM|           Processor|                 GPU|            GPU_Type|          Resolution|           Condition|               Price|Age|Gender|Smoking|Hx Smoking|Hx Radiothreapy|    Thyroid Function|Physical Examination|Adenopathy|     Pathology|   Focality|Risk|  T|  N|  M|Stage|     Response|Recurred|\n",
            "+---------+--------------------+--------------------+---------+--------------------+--------------------+--------------------+--------------------+--------------------+--------------------+---+------+-------+----------+---------------+--------------------+--------------------+----------+--------------+-----------+----+---+---+---+-----+-------------+--------+\n",
            "|   Lenovo|Lenovo ThinkPad 1...|                  14|       16|Intel Core i5 7th...|Intel HD Graphics...|Integrated/On-Boa...|                NULL|Very Good - Refur...|              189.99| 27|     F|     No|        No|             No|           Euthyroid|Single nodular go...|        No|Micropapillary|  Uni-Focal| Low|T1a| N0| M0|    I|Indeterminate|      No|\n",
            "|     Dell|\"Dell Latitude 15...|                15.6|       64|Intel Core i5 8th...|Intel UHD Graphic...|Integrated/On-Boa...|         1920 x 1080|Very Good - Refur...|              349.99| 34|     F|     No|       Yes|             No|           Euthyroid| Multinodular goiter|        No|Micropapillary|  Uni-Focal| Low|T1a| N0| M0|    I|    Excellent|      No|\n",
            "|       HP|\"NEW HP 15 Laptop...|           i5-1135G7|  8GB RAM|           256GB SSD|Win 11 -15-dy2795wm\"|                15.6|                   8|Intel Core i5 11t...|Intel Iris Xe Gra...| 30|     F|     No|        No|             No|           Euthyroid|Single nodular go...|        No|Micropapillary|  Uni-Focal| Low|T1a| N0| M0|    I|    Excellent|      No|\n",
            "|   Lenovo|2024 Lenovo Ideap...|                15.6|       Up|Intel Core i5 11t...|Intel Iris Xe Gra...|Integrated/On-Boa...|         1920 x 1080|                 New|               459.0| 62|     F|     No|        No|             No|           Euthyroid|Single nodular go...|        No|Micropapillary|  Uni-Focal| Low|T1a| N0| M0|    I|    Excellent|      No|\n",
            "|   Lenovo|\"2024 Lenovo Idea...|                15.6|       16|Intel Core i5 11t...|Intel Iris Xe Gra...|Integrated/On-Boa...|         1920 x 1080|                 New|               499.0| 62|     F|     No|        No|             No|           Euthyroid| Multinodular goiter|        No|Micropapillary|Multi-Focal| Low|T1a| N0| M0|    I|    Excellent|      No|\n",
            "|Microsoft|\"Microsoft Surfac...| Intel Core i5 12...| 8Gb RAM\"|                13.5|                   8|Intel Core i5 12t...|Intel Iris Xe Gra...|Integrated/On-Boa...|         2256 x 1504| 52|     M|    Yes|        No|             No|           Euthyroid| Multinodular goiter|        No|Micropapillary|Multi-Focal| Low|T1a| N0| M0|    I|Indeterminate|      No|\n",
            "|   Lenovo|\"Lenovo V15 G4 IR...|            i7-1355U| 16GB RAM|             1TB SSD|                W11P|              Black\"|                15.6|                  16|Intel Core i7 13t...| 41|     F|     No|       Yes|             No|Clinical Hyperthy...|Single nodular go...|        No|Micropapillary|  Uni-Focal| Low|T1a| N0| M0|    I|    Excellent|      No|\n",
            "|     Dell|\"Dell Latitude 15...|                15.6|       64|Intel Core i5 7th...|Intel HD Graphics...|Integrated/On-Boa...|         1920 x 1080|Very Good - Refur...|              319.99| 46|     F|     No|        No|             No|           Euthyroid|Single nodular go...|        No|Micropapillary|  Uni-Focal| Low|T1a| N0| M0|    I|    Excellent|      No|\n",
            "|Microsoft|Microsoft Surface...|                13.5|        8|Intel Core i5 8th...|Intel HD Graphics...|Integrated/On-Boa...|         2256 x 1504|Very Good - Refur...|               245.0| 51|     F|     No|        No|             No|           Euthyroid|Single nodular go...|        No|Micropapillary|  Uni-Focal| Low|T1a| N0| M0|    I|    Excellent|      No|\n",
            "|   Lenovo|Lenovo ThinkPad T...|                  14|       16|Intel Core i5 6th...|   Intel HD Graphics|Integrated/On-Boa...|                NULL|Excellent - Refur...|              179.99| 40|     F|     No|        No|             No|           Euthyroid|Single nodular go...|        No|Micropapillary|  Uni-Focal| Low|T1a| N0| M0|    I|    Excellent|      No|\n",
            "|   Lenovo|\"Lenovo ThinkPad ...|                15.6|       16|Intel Core i7 7th...| NVIDIA Quadro M2200|  Dedicated Graphics|         1920 x 1080|Very Good - Refur...|              314.96| 75|     F|     No|        No|             No|           Euthyroid|Single nodular go...|        No|Micropapillary|  Uni-Focal| Low|T1a| N0| M0|    I|    Excellent|      No|\n",
            "|     Dell|New Dell Latitude...|                  14|       16|Intel Core i5 13t...|Intel Iris Xe Gra...|Integrated/On-Boa...|         1920 x 1080|                 New|               550.0| 59|     F|     No|        No|             No|           Euthyroid|Single nodular go...|        No|Micropapillary|  Uni-Focal| Low|T1a| N0| M0|    I|    Excellent|      No|\n",
            "|     Dell|\"Dell Latitude 54...|                  14|       16|Intel Core i5 13t...|Intel Iris Xe Gra...|Integrated/On-Boa...|         1920 x 1080|            Open box|               459.0| 49|     F|     No|        No|             No|           Euthyroid| Multinodular goiter|        No|Micropapillary|  Uni-Focal| Low|T1a| N0| M0|    I|    Excellent|      No|\n",
            "|     Asus|ASUS ROG Flow Z13...|                13.4|       16|Intel Core i7 12t...|NVIDIA GeForce RT...|  Dedicated Graphics|         1920 x 1200|Very Good - Refur...|               732.0| 50|     F|     No|        No|             No|Clinical Hyperthy...| Multinodular goiter|        No|Micropapillary|  Uni-Focal| Low|T1a| N0| M0|    I|    Excellent|      No|\n",
            "|     Dell|\"Dell Latitude 54...|                  14|       32|Intel Core i7 11t...|                NULL|Integrated/On-Boa...|         1920 x 1080|Very Good - Refur...|               429.0| 76|     F|     No|        No|             No|Clinical Hypothyr...|Single nodular go...|        No|Micropapillary|  Uni-Focal| Low|T1a| N0| M0|    I|    Excellent|      No|\n",
            "|     Dell|\"Dell laptop Lati...|                  14|       16|Intel Core i5 6th...|                NULL|Integrated/On-Boa...|         1920 x 1080|Very Good - Refur...|              219.99| 42|     F|     No|        No|             No|           Euthyroid|Single nodular go...|        No|Micropapillary|  Uni-Focal| Low|T1a| N0| M0|    I|Indeterminate|      No|\n",
            "|   Lenovo|\"Lenovo ThinkPad ...|                13.3|        8|Intel Core i5 11t...|Intel Iris Xe Gra...|Integrated/On-Boa...|         1920 x 1080|Very Good - Refur...|              247.45| 40|     F|     No|       Yes|             No|           Euthyroid|Single nodular go...|        No|Micropapillary|  Uni-Focal| Low|T1a| N0| M0|    I|    Excellent|      No|\n",
            "|     Asus|\"ASUS 15.6\"\" Q530...|                15.6|       16|Intel Core i7 13t...|NVIDIA GeForce RT...|  Dedicated Graphics|         1920 x 1080|            Open box|               699.0| 44|     F|     No|        No|             No|           Euthyroid| Multinodular goiter|        No|Micropapillary|  Uni-Focal| Low|T1a| N0| M0|    I|Indeterminate|      No|\n",
            "|     Dell|\"Dell 5500 15.6\"\"...|                15.6|       64|Intel Core i5 8th...|Intel UHD Graphic...|Integrated/On-Boa...|         1920 x 1080|Very Good - Refur...|               322.0| 43|     F|     No|        No|             No|           Euthyroid| Multinodular goiter|        No|Micropapillary|  Uni-Focal| Low|T1a| N0| M0|    I|    Excellent|      No|\n",
            "|     Dell|Dell Latitude 550...|                15.6|       64|Intel Core i5 8th...|Intel UHD Graphic...|Integrated/On-Boa...|         1920 x 1080|Very Good - Refur...|              299.99| 52|     F|     No|        No|             No|           Euthyroid| Multinodular goiter|        No|Micropapillary|Multi-Focal| Low|T1a| N0| M0|    I|Indeterminate|      No|\n",
            "+---------+--------------------+--------------------+---------+--------------------+--------------------+--------------------+--------------------+--------------------+--------------------+---+------+-------+----------+---------------+--------------------+--------------------+----------+--------------+-----------+----+---+---+---+-----+-------------+--------+\n",
            "only showing top 20 rows\n",
            "\n"
          ]
        }
      ]
    },
    {
      "cell_type": "code",
      "source": [
        "# Show the aggregated result\n",
        "aggregated_df.show()\n",
        "\n",
        "# Stop Spark session\n",
        "spark.stop()"
      ],
      "metadata": {
        "colab": {
          "base_uri": "https://localhost:8080/"
        },
        "id": "rIhOXPQzh4He",
        "outputId": "7067cd64-b0fd-4da4-b652-c25413a5c63e"
      },
      "execution_count": 7,
      "outputs": [
        {
          "output_type": "stream",
          "name": "stdout",
          "text": [
            "+---+------------------+\n",
            "|Age|        sum(Price)|\n",
            "+---+------------------+\n",
            "| 31| 8796.669999999996|\n",
            "| 65|            489.99|\n",
            "| 53|1265.3000000000002|\n",
            "| 78|             99.99|\n",
            "| 34| 3604.919999999999|\n",
            "| 81|           1220.27|\n",
            "| 28| 4501.169999999999|\n",
            "| 76|             429.0|\n",
            "| 27| 5617.589999999999|\n",
            "| 26|           5315.16|\n",
            "| 44|           2921.67|\n",
            "| 22|           2777.85|\n",
            "| 47|            934.99|\n",
            "| 52|           1927.94|\n",
            "| 40| 4457.679999999999|\n",
            "| 20|           1736.97|\n",
            "| 57|            359.98|\n",
            "| 54|           1055.98|\n",
            "| 48|           1505.85|\n",
            "| 19|            779.99|\n",
            "+---+------------------+\n",
            "only showing top 20 rows\n",
            "\n"
          ]
        }
      ]
    }
  ]
}
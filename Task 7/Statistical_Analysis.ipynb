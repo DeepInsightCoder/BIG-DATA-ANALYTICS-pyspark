{
  "nbformat": 4,
  "nbformat_minor": 0,
  "metadata": {
    "colab": {
      "provenance": []
    },
    "kernelspec": {
      "name": "python3",
      "display_name": "Python 3"
    },
    "language_info": {
      "name": "python"
    }
  },
  "cells": [
    {
      "cell_type": "code",
      "execution_count": 1,
      "metadata": {
        "colab": {
          "base_uri": "https://localhost:8080/"
        },
        "id": "uK5Uslzw1y2v",
        "outputId": "5c3db194-5b2f-4d23-dc20-d47a45d4af73"
      },
      "outputs": [
        {
          "output_type": "stream",
          "name": "stdout",
          "text": [
            "Collecting pyspark\n",
            "  Downloading pyspark-3.5.1.tar.gz (317.0 MB)\n",
            "\u001b[2K     \u001b[90m━━━━━━━━━━━━━━━━━━━━━━━━━━━━━━━━━━━━━━━━\u001b[0m \u001b[32m317.0/317.0 MB\u001b[0m \u001b[31m4.4 MB/s\u001b[0m eta \u001b[36m0:00:00\u001b[0m\n",
            "\u001b[?25h  Preparing metadata (setup.py) ... \u001b[?25l\u001b[?25hdone\n",
            "Requirement already satisfied: py4j==0.10.9.7 in /usr/local/lib/python3.10/dist-packages (from pyspark) (0.10.9.7)\n",
            "Building wheels for collected packages: pyspark\n",
            "  Building wheel for pyspark (setup.py) ... \u001b[?25l\u001b[?25hdone\n",
            "  Created wheel for pyspark: filename=pyspark-3.5.1-py2.py3-none-any.whl size=317488491 sha256=4946774fe9f502a1f90e06c56bfeced1f18ab536a96c55bc68d9e8cada91df11\n",
            "  Stored in directory: /root/.cache/pip/wheels/80/1d/60/2c256ed38dddce2fdd93be545214a63e02fbd8d74fb0b7f3a6\n",
            "Successfully built pyspark\n",
            "Installing collected packages: pyspark\n",
            "Successfully installed pyspark-3.5.1\n"
          ]
        }
      ],
      "source": [
        "pip install pyspark"
      ]
    },
    {
      "cell_type": "code",
      "source": [
        "from pyspark.sql import SparkSession\n",
        "from pyspark.sql.functions import col, mean, stddev, corr\n",
        "\n",
        "# Initialize Spark session\n",
        "spark = SparkSession.builder.appName(\"CropRecommendationStats\").getOrCreate()"
      ],
      "metadata": {
        "id": "sOwhrW-K2Mf9"
      },
      "execution_count": 2,
      "outputs": []
    },
    {
      "cell_type": "code",
      "source": [
        "# Load the dataset\n",
        "df = spark.read.csv('Crop_Recommendation.csv', header=True, inferSchema=True)\n",
        "\n",
        "# Select relevant columns for analysis\n",
        "columns = ['Nitrogen', 'Phosphorus', 'Potassium', 'Temperature', 'Humidity', 'pH_Value', 'Rainfall']"
      ],
      "metadata": {
        "id": "M92DeDk92Mi8"
      },
      "execution_count": 3,
      "outputs": []
    },
    {
      "cell_type": "code",
      "source": [
        "# Compute basic statistics: mean and standard deviation\n",
        "stats = {}\n",
        "for column in columns:\n",
        "    stats[column] = {\n",
        "        \"mean\": df.select(mean(col(column))).collect()[0][0],\n",
        "        \"stddev\": df.select(stddev(col(column))).collect()[0][0]\n",
        "    }\n",
        "\n",
        "# Compute correlation matrix\n",
        "correlation_matrix = {}\n",
        "for col1 in columns:\n",
        "    for col2 in columns:\n",
        "        if col1 != col2:\n",
        "            correlation_matrix[(col1, col2)] = df.select(corr(col1, col2)).collect()[0][0]"
      ],
      "metadata": {
        "id": "h4pjNuQq2MmG"
      },
      "execution_count": 4,
      "outputs": []
    },
    {
      "cell_type": "code",
      "source": [
        "# Display results\n",
        "print(\"Basic Statistics (Mean and Standard Deviation):\")\n",
        "for column, stat in stats.items():\n",
        "    print(f\"{column}: Mean = {stat['mean']}, StdDev = {stat['stddev']}\")\n",
        "\n",
        "print(\"\\nCorrelation Matrix:\")\n",
        "for (col1, col2), corr_value in correlation_matrix.items():\n",
        "    print(f\"Correlation between {col1} and {col2}: {corr_value}\")"
      ],
      "metadata": {
        "colab": {
          "base_uri": "https://localhost:8080/"
        },
        "id": "1yivtPZk2Moi",
        "outputId": "d1fdfdd9-b379-46fa-8b5b-e31bfeede636"
      },
      "execution_count": 5,
      "outputs": [
        {
          "output_type": "stream",
          "name": "stdout",
          "text": [
            "Basic Statistics (Mean and Standard Deviation):\n",
            "Nitrogen: Mean = 50.551818181818184, StdDev = 36.917333833756594\n",
            "Phosphorus: Mean = 53.36272727272727, StdDev = 32.98588273858713\n",
            "Potassium: Mean = 48.14909090909091, StdDev = 50.647930546660135\n",
            "Temperature: Mean = 25.616243851779533, StdDev = 5.0637485999588545\n",
            "Humidity: Mean = 71.48177921778648, StdDev = 22.263811589761104\n",
            "pH_Value: Mean = 6.469480065256368, StdDev = 0.7739376880298733\n",
            "Rainfall: Mean = 103.46365541576832, StdDev = 54.958388524878174\n",
            "\n",
            "Correlation Matrix:\n",
            "Correlation between Nitrogen and Phosphorus: -0.23145957738457262\n",
            "Correlation between Nitrogen and Potassium: -0.14051183844915763\n",
            "Correlation between Nitrogen and Temperature: 0.026503796219081235\n",
            "Correlation between Nitrogen and Humidity: 0.19068837919787315\n",
            "Correlation between Nitrogen and pH_Value: 0.09668284622242826\n",
            "Correlation between Nitrogen and Rainfall: 0.05902022369254324\n",
            "Correlation between Phosphorus and Nitrogen: -0.23145957738457262\n",
            "Correlation between Phosphorus and Potassium: 0.736232217244661\n",
            "Correlation between Phosphorus and Temperature: -0.12754112864533876\n",
            "Correlation between Phosphorus and Humidity: -0.11873411647954892\n",
            "Correlation between Phosphorus and pH_Value: -0.13801889348863638\n",
            "Correlation between Phosphorus and Rainfall: -0.063839051330259\n",
            "Correlation between Potassium and Nitrogen: -0.14051183844915768\n",
            "Correlation between Potassium and Phosphorus: 0.736232217244661\n",
            "Correlation between Potassium and Temperature: -0.16038713278089597\n",
            "Correlation between Potassium and Humidity: 0.19085886083646317\n",
            "Correlation between Potassium and pH_Value: -0.16950309817325435\n",
            "Correlation between Potassium and Rainfall: -0.05346135449256891\n",
            "Correlation between Temperature and Nitrogen: 0.026503796219081246\n",
            "Correlation between Temperature and Phosphorus: -0.12754112864533879\n",
            "Correlation between Temperature and Potassium: -0.1603871327808959\n",
            "Correlation between Temperature and Humidity: 0.20531967663070663\n",
            "Correlation between Temperature and pH_Value: -0.017795017094562514\n",
            "Correlation between Temperature and Rainfall: -0.030083780898041246\n",
            "Correlation between Humidity and Nitrogen: 0.19068837919787313\n",
            "Correlation between Humidity and Phosphorus: -0.11873411647954892\n",
            "Correlation between Humidity and Potassium: 0.19085886083646322\n",
            "Correlation between Humidity and Temperature: 0.20531967663070663\n",
            "Correlation between Humidity and pH_Value: -0.008482538638190167\n",
            "Correlation between Humidity and Rainfall: 0.09442305334855393\n",
            "Correlation between pH_Value and Nitrogen: 0.09668284622242829\n",
            "Correlation between pH_Value and Phosphorus: -0.13801889348863636\n",
            "Correlation between pH_Value and Potassium: -0.16950309817325432\n",
            "Correlation between pH_Value and Temperature: -0.017795017094562497\n",
            "Correlation between pH_Value and Humidity: -0.008482538638190176\n",
            "Correlation between pH_Value and Rainfall: -0.10906948370283188\n",
            "Correlation between Rainfall and Nitrogen: 0.059020223692543165\n",
            "Correlation between Rainfall and Phosphorus: -0.06383905133025898\n",
            "Correlation between Rainfall and Potassium: -0.05346135449256891\n",
            "Correlation between Rainfall and Temperature: -0.03008378089804126\n",
            "Correlation between Rainfall and Humidity: 0.09442305334855393\n",
            "Correlation between Rainfall and pH_Value: -0.10906948370283188\n"
          ]
        }
      ]
    },
    {
      "cell_type": "code",
      "source": [
        "# Stop the Spark session\n",
        "spark.stop()"
      ],
      "metadata": {
        "id": "j0zKzOlT2MsD"
      },
      "execution_count": 6,
      "outputs": []
    }
  ]
}